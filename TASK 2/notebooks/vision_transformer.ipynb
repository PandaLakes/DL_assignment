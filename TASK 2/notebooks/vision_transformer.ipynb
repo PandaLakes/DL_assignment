{
 "cells": [
  {
   "cell_type": "code",
   "execution_count": 17,
   "metadata": {},
   "outputs": [],
   "source": [
    "import torch\n",
    "import torch.nn as nn\n",
    "import torch.optim as optim\n",
    "from torch.utils.data import DataLoader, Subset\n",
    "from torchvision import transforms, datasets\n",
    "import numpy as np\n",
    "from sklearn.model_selection import StratifiedShuffleSplit\n",
    "import matplotlib.pyplot as plt\n",
    "from tqdm import tqdm"
   ]
  },
  {
   "cell_type": "code",
   "execution_count": 18,
   "metadata": {},
   "outputs": [
    {
     "name": "stdout",
     "output_type": "stream",
     "text": [
      "Using device: cuda\n"
     ]
    }
   ],
   "source": [
    "# Device configuration\n",
    "device = torch.device(\"cuda\" if torch.cuda.is_available() else \"cpu\")\n",
    "print(f\"Using device: {device}\")"
   ]
  },
  {
   "cell_type": "code",
   "execution_count": 19,
   "metadata": {},
   "outputs": [],
   "source": [
    "# Hyperparameters\n",
    "image_size = 224\n",
    "patch_size = 16\n",
    "num_classes = 7\n",
    "hidden_dim = 256\n",
    "depth = 6\n",
    "num_heads = 4\n",
    "mlp_dim = 512\n",
    "dropout = 0.1\n",
    "batch_size = 32\n",
    "num_epochs = 100\n",
    "lr = 3e-4\n",
    "weight_decay = 0.03"
   ]
  },
  {
   "cell_type": "code",
   "execution_count": 20,
   "metadata": {},
   "outputs": [],
   "source": [
    "# Enhanced data augmentation\n",
    "train_transform = transforms.Compose([\n",
    "    transforms.Resize((image_size, image_size)),\n",
    "    transforms.RandomHorizontalFlip(),\n",
    "    transforms.RandomVerticalFlip(),\n",
    "    transforms.RandomRotation(20),\n",
    "    transforms.RandomResizedCrop(image_size, scale=(0.7, 1.0)),\n",
    "    transforms.ColorJitter(brightness=0.2, contrast=0.2, saturation=0.2, hue=0.1),\n",
    "    transforms.RandomApply([transforms.GaussianBlur(3)], p=0.3),\n",
    "    transforms.ToTensor(),\n",
    "    transforms.Normalize([0.485, 0.456, 0.406], [0.229, 0.224, 0.225])\n",
    "])"
   ]
  },
  {
   "cell_type": "code",
   "execution_count": 21,
   "metadata": {},
   "outputs": [],
   "source": [
    "val_test_transform = transforms.Compose([\n",
    "    transforms.Resize((image_size, image_size)),\n",
    "    transforms.ToTensor(),\n",
    "    transforms.Normalize([0.485, 0.456, 0.406], [0.229, 0.224, 0.225])\n",
    "])"
   ]
  },
  {
   "cell_type": "code",
   "execution_count": 22,
   "metadata": {},
   "outputs": [],
   "source": [
    "# Data Loading and Augmentation\n",
    "image_size = 224\n",
    "train_path = \"/teamspace/studios/this_studio/Animal Classification Capstone Project (2)/DeepLearning/DeepLearning 24-25/Train\"\n",
    "test_path = \"/teamspace/studios/this_studio/Animal Classification Capstone Project (2)/DeepLearning/DeepLearning 24-25/Test\"\n"
   ]
  },
  {
   "cell_type": "code",
   "execution_count": 23,
   "metadata": {},
   "outputs": [],
   "source": [
    "# Load dataset with stratified split\n",
    "full_dataset = datasets.ImageFolder(train_path)\n",
    "labels = [s[1] for s in full_dataset.samples]\n",
    "\n",
    "# Stratified split (80-20)\n",
    "sss = StratifiedShuffleSplit(n_splits=1, test_size=0.2, random_state=42)\n",
    "train_indices, val_indices = next(sss.split(np.zeros(len(labels)), labels))"
   ]
  },
  {
   "cell_type": "code",
   "execution_count": 24,
   "metadata": {},
   "outputs": [],
   "source": [
    "train_dataset = Subset(full_dataset, train_indices)\n",
    "val_dataset = Subset(full_dataset, val_indices)\n",
    "\n",
    "# Apply transforms\n",
    "class TransformSubset:\n",
    "    def __init__(self, subset, transform):\n",
    "        self.subset = subset\n",
    "        self.transform = transform\n",
    "\n",
    "    def __getitem__(self, index):\n",
    "        x, y = self.subset[index]\n",
    "        return self.transform(x), y\n",
    "\n",
    "    def __len__(self):\n",
    "        return len(self.subset)"
   ]
  },
  {
   "cell_type": "code",
   "execution_count": 25,
   "metadata": {},
   "outputs": [],
   "source": [
    "train_dataset = TransformSubset(train_dataset, train_transform)\n",
    "val_dataset = TransformSubset(val_dataset, val_test_transform)\n",
    "test_dataset = datasets.ImageFolder(test_path, transform=val_test_transform)\n",
    "\n",
    "# Data loaders\n",
    "train_loader = DataLoader(train_dataset, batch_size=batch_size, shuffle=True, num_workers=4, pin_memory=True)\n",
    "val_loader = DataLoader(val_dataset, batch_size=batch_size, shuffle=False, num_workers=4, pin_memory=True)\n",
    "test_loader = DataLoader(test_dataset, batch_size=batch_size, shuffle=False, num_workers=4, pin_memory=True)"
   ]
  },
  {
   "cell_type": "code",
   "execution_count": 26,
   "metadata": {},
   "outputs": [],
   "source": [
    "# Custom Vision Transformer implementation\n",
    "class PatchEmbedding(nn.Module):\n",
    "    def __init__(self, image_size=224, patch_size=16, in_channels=3, hidden_dim=256):\n",
    "        super().__init__()\n",
    "        self.num_patches = (image_size // patch_size) ** 2\n",
    "        self.patch_size = patch_size\n",
    "        \n",
    "        self.projection = nn.Conv2d(in_channels, hidden_dim, \n",
    "                                  kernel_size=patch_size, \n",
    "                                  stride=patch_size)\n",
    "\n",
    "    def forward(self, x):\n",
    "        x = self.projection(x)  # (B, hidden_dim, H/patch, W/patch)\n",
    "        x = x.flatten(2).transpose(1, 2)  # (B, num_patches, hidden_dim)\n",
    "        return x"
   ]
  },
  {
   "cell_type": "code",
   "execution_count": 27,
   "metadata": {},
   "outputs": [],
   "source": [
    "class ViT(nn.Module):\n",
    "    def __init__(self, image_size=224, patch_size=16, num_classes=7, hidden_dim=256, \n",
    "                 depth=6, num_heads=4, mlp_dim=512, dropout=0.1):\n",
    "        super().__init__()\n",
    "        \n",
    "        self.patch_embed = PatchEmbedding(image_size, patch_size, 3, hidden_dim)\n",
    "        num_patches = self.patch_embed.num_patches\n",
    "        \n",
    "        # Learnable parameters\n",
    "        self.cls_token = nn.Parameter(torch.randn(1, 1, hidden_dim))\n",
    "        self.pos_embed = nn.Parameter(torch.randn(1, num_patches + 1, hidden_dim))\n",
    "        self.dropout = nn.Dropout(dropout)\n",
    "        \n",
    "        # Transformer encoder\n",
    "        self.encoder = nn.ModuleList([\n",
    "            nn.TransformerEncoderLayer(\n",
    "                d_model=hidden_dim,\n",
    "                nhead=num_heads,\n",
    "                dim_feedforward=mlp_dim,\n",
    "                dropout=dropout,\n",
    "                activation='gelu',\n",
    "                batch_first=True\n",
    "            ) for _ in range(depth)])\n",
    "        \n",
    "        # Classifier head\n",
    "        self.mlp_head = nn.Sequential(\n",
    "            nn.LayerNorm(hidden_dim),\n",
    "            nn.Linear(hidden_dim, num_classes)\n",
    "        )\n",
    "\n",
    "    def forward(self, x):\n",
    "        B = x.shape[0]\n",
    "        \n",
    "        # Patch embedding\n",
    "        x = self.patch_embed(x)  # (B, num_patches, hidden_dim)\n",
    "        \n",
    "        # Add class token\n",
    "        cls_tokens = self.cls_token.expand(B, -1, -1)\n",
    "        x = torch.cat((cls_tokens, x), dim=1)  # (B, num_patches+1, hidden_dim)\n",
    "        \n",
    "        # Add positional embedding\n",
    "        x += self.pos_embed\n",
    "        x = self.dropout(x)\n",
    "        \n",
    "        # Transformer encoder\n",
    "        for layer in self.encoder:\n",
    "            x = layer(x)\n",
    "        \n",
    "        # Use class token for classification\n",
    "        x = x[:, 0]\n",
    "        return self.mlp_head(x)\n"
   ]
  },
  {
   "cell_type": "code",
   "execution_count": 28,
   "metadata": {},
   "outputs": [],
   "source": [
    "# Initialize model\n",
    "model = ViT(\n",
    "    image_size=image_size,\n",
    "    patch_size=patch_size,\n",
    "    num_classes=num_classes,\n",
    "    hidden_dim=hidden_dim,\n",
    "    depth=depth,\n",
    "    num_heads=num_heads,\n",
    "    mlp_dim=mlp_dim,\n",
    "    dropout=dropout\n",
    ").to(device)"
   ]
  },
  {
   "cell_type": "code",
   "execution_count": 29,
   "metadata": {},
   "outputs": [],
   "source": [
    "# Class weighting\n",
    "class_counts = np.array([346, 353, 346, 337, 355, 340, 315])\n",
    "class_weights = 1.0 / torch.sqrt(torch.tensor(class_counts, dtype=torch.float32))\n",
    "class_weights = class_weights.to(device)"
   ]
  },
  {
   "cell_type": "code",
   "execution_count": 30,
   "metadata": {},
   "outputs": [],
   "source": [
    "# Loss and optimizer\n",
    "criterion = nn.CrossEntropyLoss(weight=class_weights)\n",
    "optimizer = optim.AdamW(model.parameters(), lr=lr, weight_decay=weight_decay)\n",
    "scheduler = optim.lr_scheduler.CosineAnnealingLR(optimizer, T_max=num_epochs)"
   ]
  },
  {
   "cell_type": "code",
   "execution_count": 31,
   "metadata": {},
   "outputs": [
    {
     "name": "stderr",
     "output_type": "stream",
     "text": [
      "Epoch 1/100: 100%|██████████| 60/60 [00:04<00:00, 12.24it/s, loss=1.7, acc=0.36] \n"
     ]
    },
    {
     "name": "stdout",
     "output_type": "stream",
     "text": [
      "\n",
      "Epoch 1/100\n",
      "Train Loss: 1.8456 | Train Acc: 26.82%\n",
      "Val Loss: 1.7233 | Val Acc: 30.06%\n",
      "--------------------------------------------------\n",
      "Validation accuracy improved from 0.00% to 30.06%\n"
     ]
    },
    {
     "name": "stderr",
     "output_type": "stream",
     "text": [
      "Epoch 2/100: 100%|██████████| 60/60 [00:04<00:00, 12.50it/s, loss=1.48, acc=0.36]\n"
     ]
    },
    {
     "name": "stdout",
     "output_type": "stream",
     "text": [
      "\n",
      "Epoch 2/100\n",
      "Train Loss: 1.7406 | Train Acc: 29.38%\n",
      "Val Loss: 1.5899 | Val Acc: 40.92%\n",
      "--------------------------------------------------\n",
      "Validation accuracy improved from 30.06% to 40.92%\n"
     ]
    },
    {
     "name": "stderr",
     "output_type": "stream",
     "text": [
      "Epoch 3/100: 100%|██████████| 60/60 [00:04<00:00, 12.47it/s, loss=1.67, acc=0.24]\n"
     ]
    },
    {
     "name": "stdout",
     "output_type": "stream",
     "text": [
      "\n",
      "Epoch 3/100\n",
      "Train Loss: 1.6359 | Train Acc: 37.48%\n",
      "Val Loss: 1.6201 | Val Acc: 38.41%\n",
      "--------------------------------------------------\n",
      "No improvement. Patience 1/10\n"
     ]
    },
    {
     "name": "stderr",
     "output_type": "stream",
     "text": [
      "Epoch 4/100: 100%|██████████| 60/60 [00:04<00:00, 12.59it/s, loss=2.07, acc=0.28]\n"
     ]
    },
    {
     "name": "stdout",
     "output_type": "stream",
     "text": [
      "\n",
      "Epoch 4/100\n",
      "Train Loss: 1.6081 | Train Acc: 38.37%\n",
      "Val Loss: 1.4113 | Val Acc: 47.60%\n",
      "--------------------------------------------------\n",
      "Validation accuracy improved from 40.92% to 47.60%\n"
     ]
    },
    {
     "name": "stderr",
     "output_type": "stream",
     "text": [
      "Epoch 5/100: 100%|██████████| 60/60 [00:04<00:00, 12.71it/s, loss=1.74, acc=0.40]\n"
     ]
    },
    {
     "name": "stdout",
     "output_type": "stream",
     "text": [
      "\n",
      "Epoch 5/100\n",
      "Train Loss: 1.5602 | Train Acc: 42.13%\n",
      "Val Loss: 1.4696 | Val Acc: 45.93%\n",
      "--------------------------------------------------\n",
      "No improvement. Patience 1/10\n"
     ]
    },
    {
     "name": "stderr",
     "output_type": "stream",
     "text": [
      "Epoch 6/100: 100%|██████████| 60/60 [00:04<00:00, 12.23it/s, loss=1.46, acc=0.48]\n"
     ]
    },
    {
     "name": "stdout",
     "output_type": "stream",
     "text": [
      "\n",
      "Epoch 6/100\n",
      "Train Loss: 1.5597 | Train Acc: 40.98%\n",
      "Val Loss: 1.4328 | Val Acc: 45.93%\n",
      "--------------------------------------------------\n",
      "No improvement. Patience 2/10\n"
     ]
    },
    {
     "name": "stderr",
     "output_type": "stream",
     "text": [
      "Epoch 7/100: 100%|██████████| 60/60 [00:04<00:00, 12.39it/s, loss=1.73, acc=0.28]\n"
     ]
    },
    {
     "name": "stdout",
     "output_type": "stream",
     "text": [
      "\n",
      "Epoch 7/100\n",
      "Train Loss: 1.5204 | Train Acc: 42.71%\n",
      "Val Loss: 1.4576 | Val Acc: 43.22%\n",
      "--------------------------------------------------\n",
      "No improvement. Patience 3/10\n"
     ]
    },
    {
     "name": "stderr",
     "output_type": "stream",
     "text": [
      "Epoch 8/100: 100%|██████████| 60/60 [00:04<00:00, 12.28it/s, loss=1.22, acc=0.56]\n"
     ]
    },
    {
     "name": "stdout",
     "output_type": "stream",
     "text": [
      "\n",
      "Epoch 8/100\n",
      "Train Loss: 1.5141 | Train Acc: 43.18%\n",
      "Val Loss: 1.3559 | Val Acc: 52.61%\n",
      "--------------------------------------------------\n",
      "Validation accuracy improved from 47.60% to 52.61%\n"
     ]
    },
    {
     "name": "stderr",
     "output_type": "stream",
     "text": [
      "Epoch 9/100: 100%|██████████| 60/60 [00:04<00:00, 12.31it/s, loss=1.54, acc=0.44]\n"
     ]
    },
    {
     "name": "stdout",
     "output_type": "stream",
     "text": [
      "\n",
      "Epoch 9/100\n",
      "Train Loss: 1.4942 | Train Acc: 44.17%\n",
      "Val Loss: 1.2837 | Val Acc: 53.24%\n",
      "--------------------------------------------------\n",
      "Validation accuracy improved from 52.61% to 53.24%\n"
     ]
    },
    {
     "name": "stderr",
     "output_type": "stream",
     "text": [
      "Epoch 10/100: 100%|██████████| 60/60 [00:04<00:00, 12.38it/s, loss=1.31, acc=0.48] \n"
     ]
    },
    {
     "name": "stdout",
     "output_type": "stream",
     "text": [
      "\n",
      "Epoch 10/100\n",
      "Train Loss: 1.4661 | Train Acc: 45.27%\n",
      "Val Loss: 1.3577 | Val Acc: 50.73%\n",
      "--------------------------------------------------\n",
      "No improvement. Patience 1/10\n"
     ]
    },
    {
     "name": "stderr",
     "output_type": "stream",
     "text": [
      "Epoch 11/100: 100%|██████████| 60/60 [00:04<00:00, 12.08it/s, loss=1.36, acc=0.56]\n"
     ]
    },
    {
     "name": "stdout",
     "output_type": "stream",
     "text": [
      "\n",
      "Epoch 11/100\n",
      "Train Loss: 1.4290 | Train Acc: 46.26%\n",
      "Val Loss: 1.3407 | Val Acc: 51.57%\n",
      "--------------------------------------------------\n",
      "No improvement. Patience 2/10\n"
     ]
    },
    {
     "name": "stderr",
     "output_type": "stream",
     "text": [
      "Epoch 12/100: 100%|██████████| 60/60 [00:04<00:00, 12.11it/s, loss=1.25, acc=0.48]\n"
     ]
    },
    {
     "name": "stdout",
     "output_type": "stream",
     "text": [
      "\n",
      "Epoch 12/100\n",
      "Train Loss: 1.4511 | Train Acc: 44.96%\n",
      "Val Loss: 1.2777 | Val Acc: 52.19%\n",
      "--------------------------------------------------\n",
      "No improvement. Patience 3/10\n"
     ]
    },
    {
     "name": "stderr",
     "output_type": "stream",
     "text": [
      "Epoch 13/100: 100%|██████████| 60/60 [00:04<00:00, 12.51it/s, loss=1.3, acc=0.52] \n"
     ]
    },
    {
     "name": "stdout",
     "output_type": "stream",
     "text": [
      "\n",
      "Epoch 13/100\n",
      "Train Loss: 1.4238 | Train Acc: 46.89%\n",
      "Val Loss: 1.3153 | Val Acc: 51.77%\n",
      "--------------------------------------------------\n",
      "No improvement. Patience 4/10\n"
     ]
    },
    {
     "name": "stderr",
     "output_type": "stream",
     "text": [
      "Epoch 14/100: 100%|██████████| 60/60 [00:04<00:00, 12.39it/s, loss=1.16, acc=0.60]\n"
     ]
    },
    {
     "name": "stdout",
     "output_type": "stream",
     "text": [
      "\n",
      "Epoch 14/100\n",
      "Train Loss: 1.4008 | Train Acc: 46.94%\n",
      "Val Loss: 1.3677 | Val Acc: 45.51%\n",
      "--------------------------------------------------\n",
      "No improvement. Patience 5/10\n"
     ]
    },
    {
     "name": "stderr",
     "output_type": "stream",
     "text": [
      "Epoch 15/100: 100%|██████████| 60/60 [00:04<00:00, 12.52it/s, loss=1.07, acc=0.64] \n"
     ]
    },
    {
     "name": "stdout",
     "output_type": "stream",
     "text": [
      "\n",
      "Epoch 15/100\n",
      "Train Loss: 1.4068 | Train Acc: 48.20%\n",
      "Val Loss: 1.2415 | Val Acc: 52.82%\n",
      "--------------------------------------------------\n",
      "No improvement. Patience 6/10\n"
     ]
    },
    {
     "name": "stderr",
     "output_type": "stream",
     "text": [
      "Epoch 16/100: 100%|██████████| 60/60 [00:04<00:00, 12.58it/s, loss=1.26, acc=0.48] \n"
     ]
    },
    {
     "name": "stdout",
     "output_type": "stream",
     "text": [
      "\n",
      "Epoch 16/100\n",
      "Train Loss: 1.3628 | Train Acc: 49.24%\n",
      "Val Loss: 1.2634 | Val Acc: 53.24%\n",
      "--------------------------------------------------\n",
      "No improvement. Patience 7/10\n"
     ]
    },
    {
     "name": "stderr",
     "output_type": "stream",
     "text": [
      "Epoch 17/100: 100%|██████████| 60/60 [00:04<00:00, 12.43it/s, loss=1.21, acc=0.60]\n"
     ]
    },
    {
     "name": "stdout",
     "output_type": "stream",
     "text": [
      "\n",
      "Epoch 17/100\n",
      "Train Loss: 1.3810 | Train Acc: 49.24%\n",
      "Val Loss: 1.3152 | Val Acc: 52.61%\n",
      "--------------------------------------------------\n",
      "No improvement. Patience 8/10\n"
     ]
    },
    {
     "name": "stderr",
     "output_type": "stream",
     "text": [
      "Epoch 18/100: 100%|██████████| 60/60 [00:04<00:00, 12.62it/s, loss=1.12, acc=0.44]\n"
     ]
    },
    {
     "name": "stdout",
     "output_type": "stream",
     "text": [
      "\n",
      "Epoch 18/100\n",
      "Train Loss: 1.3670 | Train Acc: 48.67%\n",
      "Val Loss: 1.3217 | Val Acc: 51.36%\n",
      "--------------------------------------------------\n",
      "No improvement. Patience 9/10\n"
     ]
    },
    {
     "name": "stderr",
     "output_type": "stream",
     "text": [
      "Epoch 19/100: 100%|██████████| 60/60 [00:04<00:00, 12.58it/s, loss=1.2, acc=0.52] \n"
     ]
    },
    {
     "name": "stdout",
     "output_type": "stream",
     "text": [
      "\n",
      "Epoch 19/100\n",
      "Train Loss: 1.3398 | Train Acc: 50.50%\n",
      "Val Loss: 1.1969 | Val Acc: 57.20%\n",
      "--------------------------------------------------\n",
      "Validation accuracy improved from 53.24% to 57.20%\n"
     ]
    },
    {
     "name": "stderr",
     "output_type": "stream",
     "text": [
      "Epoch 20/100: 100%|██████████| 60/60 [00:04<00:00, 12.32it/s, loss=1.29, acc=0.48] \n"
     ]
    },
    {
     "name": "stdout",
     "output_type": "stream",
     "text": [
      "\n",
      "Epoch 20/100\n",
      "Train Loss: 1.3387 | Train Acc: 49.97%\n",
      "Val Loss: 1.2193 | Val Acc: 54.28%\n",
      "--------------------------------------------------\n",
      "No improvement. Patience 1/10\n"
     ]
    },
    {
     "name": "stderr",
     "output_type": "stream",
     "text": [
      "Epoch 21/100: 100%|██████████| 60/60 [00:04<00:00, 12.45it/s, loss=1.4, acc=0.40]  \n"
     ]
    },
    {
     "name": "stdout",
     "output_type": "stream",
     "text": [
      "\n",
      "Epoch 21/100\n",
      "Train Loss: 1.3118 | Train Acc: 51.18%\n",
      "Val Loss: 1.2491 | Val Acc: 54.49%\n",
      "--------------------------------------------------\n",
      "No improvement. Patience 2/10\n"
     ]
    },
    {
     "name": "stderr",
     "output_type": "stream",
     "text": [
      "Epoch 22/100: 100%|██████████| 60/60 [00:04<00:00, 12.53it/s, loss=1.34, acc=0.48]\n"
     ]
    },
    {
     "name": "stdout",
     "output_type": "stream",
     "text": [
      "\n",
      "Epoch 22/100\n",
      "Train Loss: 1.3311 | Train Acc: 50.55%\n",
      "Val Loss: 1.2111 | Val Acc: 57.41%\n",
      "--------------------------------------------------\n",
      "Validation accuracy improved from 57.20% to 57.41%\n"
     ]
    },
    {
     "name": "stderr",
     "output_type": "stream",
     "text": [
      "Epoch 23/100: 100%|██████████| 60/60 [00:04<00:00, 12.09it/s, loss=1.45, acc=0.44] \n"
     ]
    },
    {
     "name": "stdout",
     "output_type": "stream",
     "text": [
      "\n",
      "Epoch 23/100\n",
      "Train Loss: 1.3010 | Train Acc: 52.59%\n",
      "Val Loss: 1.2140 | Val Acc: 57.83%\n",
      "--------------------------------------------------\n",
      "Validation accuracy improved from 57.41% to 57.83%\n"
     ]
    },
    {
     "name": "stderr",
     "output_type": "stream",
     "text": [
      "Epoch 24/100: 100%|██████████| 60/60 [00:04<00:00, 12.50it/s, loss=1.09, acc=0.72] \n"
     ]
    },
    {
     "name": "stdout",
     "output_type": "stream",
     "text": [
      "\n",
      "Epoch 24/100\n",
      "Train Loss: 1.2807 | Train Acc: 53.42%\n",
      "Val Loss: 1.1797 | Val Acc: 58.87%\n",
      "--------------------------------------------------\n",
      "Validation accuracy improved from 57.83% to 58.87%\n"
     ]
    },
    {
     "name": "stderr",
     "output_type": "stream",
     "text": [
      "Epoch 25/100: 100%|██████████| 60/60 [00:04<00:00, 12.29it/s, loss=1.15, acc=0.60] \n"
     ]
    },
    {
     "name": "stdout",
     "output_type": "stream",
     "text": [
      "\n",
      "Epoch 25/100\n",
      "Train Loss: 1.2777 | Train Acc: 53.53%\n",
      "Val Loss: 1.2954 | Val Acc: 53.44%\n",
      "--------------------------------------------------\n",
      "No improvement. Patience 1/10\n"
     ]
    },
    {
     "name": "stderr",
     "output_type": "stream",
     "text": [
      "Epoch 26/100: 100%|██████████| 60/60 [00:04<00:00, 12.37it/s, loss=1.01, acc=0.64] \n"
     ]
    },
    {
     "name": "stdout",
     "output_type": "stream",
     "text": [
      "\n",
      "Epoch 26/100\n",
      "Train Loss: 1.2878 | Train Acc: 54.26%\n",
      "Val Loss: 1.2140 | Val Acc: 55.74%\n",
      "--------------------------------------------------\n",
      "No improvement. Patience 2/10\n"
     ]
    },
    {
     "name": "stderr",
     "output_type": "stream",
     "text": [
      "Epoch 27/100: 100%|██████████| 60/60 [00:04<00:00, 12.06it/s, loss=0.931, acc=0.64]\n"
     ]
    },
    {
     "name": "stdout",
     "output_type": "stream",
     "text": [
      "\n",
      "Epoch 27/100\n",
      "Train Loss: 1.2690 | Train Acc: 53.37%\n",
      "Val Loss: 1.2691 | Val Acc: 54.70%\n",
      "--------------------------------------------------\n",
      "No improvement. Patience 3/10\n"
     ]
    },
    {
     "name": "stderr",
     "output_type": "stream",
     "text": [
      "Epoch 28/100: 100%|██████████| 60/60 [00:04<00:00, 12.35it/s, loss=1.21, acc=0.52] \n"
     ]
    },
    {
     "name": "stdout",
     "output_type": "stream",
     "text": [
      "\n",
      "Epoch 28/100\n",
      "Train Loss: 1.2597 | Train Acc: 52.90%\n",
      "Val Loss: 1.1841 | Val Acc: 55.95%\n",
      "--------------------------------------------------\n",
      "No improvement. Patience 4/10\n"
     ]
    },
    {
     "name": "stderr",
     "output_type": "stream",
     "text": [
      "Epoch 29/100: 100%|██████████| 60/60 [00:04<00:00, 12.45it/s, loss=1.38, acc=0.44] \n"
     ]
    },
    {
     "name": "stdout",
     "output_type": "stream",
     "text": [
      "\n",
      "Epoch 29/100\n",
      "Train Loss: 1.2162 | Train Acc: 55.20%\n",
      "Val Loss: 1.2054 | Val Acc: 56.99%\n",
      "--------------------------------------------------\n",
      "No improvement. Patience 5/10\n"
     ]
    },
    {
     "name": "stderr",
     "output_type": "stream",
     "text": [
      "Epoch 30/100: 100%|██████████| 60/60 [00:04<00:00, 12.20it/s, loss=1.1, acc=0.60]  \n"
     ]
    },
    {
     "name": "stdout",
     "output_type": "stream",
     "text": [
      "\n",
      "Epoch 30/100\n",
      "Train Loss: 1.2392 | Train Acc: 54.00%\n",
      "Val Loss: 1.1962 | Val Acc: 55.74%\n",
      "--------------------------------------------------\n",
      "No improvement. Patience 6/10\n"
     ]
    },
    {
     "name": "stderr",
     "output_type": "stream",
     "text": [
      "Epoch 31/100: 100%|██████████| 60/60 [00:04<00:00, 12.39it/s, loss=1.24, acc=0.48] \n"
     ]
    },
    {
     "name": "stdout",
     "output_type": "stream",
     "text": [
      "\n",
      "Epoch 31/100\n",
      "Train Loss: 1.2556 | Train Acc: 54.10%\n",
      "Val Loss: 1.2329 | Val Acc: 52.61%\n",
      "--------------------------------------------------\n",
      "No improvement. Patience 7/10\n"
     ]
    },
    {
     "name": "stderr",
     "output_type": "stream",
     "text": [
      "Epoch 32/100: 100%|██████████| 60/60 [00:04<00:00, 12.55it/s, loss=0.906, acc=0.68]\n"
     ]
    },
    {
     "name": "stdout",
     "output_type": "stream",
     "text": [
      "\n",
      "Epoch 32/100\n",
      "Train Loss: 1.2228 | Train Acc: 54.52%\n",
      "Val Loss: 1.2193 | Val Acc: 57.20%\n",
      "--------------------------------------------------\n",
      "No improvement. Patience 8/10\n"
     ]
    },
    {
     "name": "stderr",
     "output_type": "stream",
     "text": [
      "Epoch 33/100: 100%|██████████| 60/60 [00:04<00:00, 12.41it/s, loss=1.41, acc=0.44] \n"
     ]
    },
    {
     "name": "stdout",
     "output_type": "stream",
     "text": [
      "\n",
      "Epoch 33/100\n",
      "Train Loss: 1.2160 | Train Acc: 54.63%\n",
      "Val Loss: 1.2383 | Val Acc: 55.53%\n",
      "--------------------------------------------------\n",
      "No improvement. Patience 9/10\n"
     ]
    },
    {
     "name": "stderr",
     "output_type": "stream",
     "text": [
      "Epoch 34/100: 100%|██████████| 60/60 [00:04<00:00, 12.53it/s, loss=1.59, acc=0.36] \n"
     ]
    },
    {
     "name": "stdout",
     "output_type": "stream",
     "text": [
      "\n",
      "Epoch 34/100\n",
      "Train Loss: 1.2476 | Train Acc: 53.01%\n",
      "Val Loss: 1.2689 | Val Acc: 51.77%\n",
      "--------------------------------------------------\n",
      "No improvement. Patience 10/10\n",
      "Early stopping at epoch 34\n"
     ]
    }
   ],
   "source": [
    "# Training loop with early stopping and train accuracy\n",
    "best_val_acc = 0\n",
    "patience = 10\n",
    "current_patience = 0\n",
    "\n",
    "train_losses = []\n",
    "train_accuracies = []\n",
    "val_losses = []\n",
    "val_accuracies = []\n",
    "\n",
    "for epoch in range(num_epochs):\n",
    "    model.train()\n",
    "    running_loss = 0.0\n",
    "    correct_train = 0\n",
    "    total_train = 0\n",
    "    \n",
    "    progress = tqdm(train_loader, desc=f'Epoch {epoch+1}/{num_epochs}')\n",
    "    \n",
    "    for images, labels in progress:\n",
    "        images, labels = images.to(device), labels.to(device)\n",
    "        \n",
    "        optimizer.zero_grad()\n",
    "        outputs = model(images)\n",
    "        loss = criterion(outputs, labels)\n",
    "        loss.backward()\n",
    "        \n",
    "        # Gradient clipping\n",
    "        nn.utils.clip_grad_norm_(model.parameters(), 1.0)\n",
    "        \n",
    "        optimizer.step()\n",
    "        \n",
    "        # Update training metrics\n",
    "        running_loss += loss.item() * images.size(0)\n",
    "        _, predicted = torch.max(outputs, 1)\n",
    "        correct_train += (predicted == labels).sum().item()\n",
    "        total_train += labels.size(0)\n",
    "        \n",
    "        # Update progress bar\n",
    "        progress.set_postfix({\n",
    "            'loss': loss.item(),\n",
    "            'acc': f'{(predicted == labels).sum().item()/labels.size(0):.2f}'\n",
    "        })\n",
    "    \n",
    "    # Calculate epoch metrics\n",
    "    train_loss = running_loss / total_train\n",
    "    train_acc = 100 * correct_train / total_train\n",
    "    train_losses.append(train_loss)\n",
    "    train_accuracies.append(train_acc)\n",
    "    \n",
    "    # Validation phase\n",
    "    model.eval()\n",
    "    val_loss = 0.0\n",
    "    correct_val = 0\n",
    "    total_val = 0\n",
    "    \n",
    "    with torch.no_grad():\n",
    "        for images, labels in val_loader:\n",
    "            images, labels = images.to(device), labels.to(device)\n",
    "            outputs = model(images)\n",
    "            loss = criterion(outputs, labels)\n",
    "            \n",
    "            val_loss += loss.item() * images.size(0)\n",
    "            _, predicted = torch.max(outputs, 1)\n",
    "            total_val += labels.size(0)\n",
    "            correct_val += (predicted == labels).sum().item()\n",
    "    \n",
    "    val_loss = val_loss / total_val\n",
    "    val_acc = 100 * correct_val / total_val\n",
    "    val_losses.append(val_loss)\n",
    "    val_accuracies.append(val_acc)\n",
    "    \n",
    "    # Print epoch statistics\n",
    "    print(f'\\nEpoch {epoch+1}/{num_epochs}')\n",
    "    print(f'Train Loss: {train_loss:.4f} | Train Acc: {train_acc:.2f}%')\n",
    "    print(f'Val Loss: {val_loss:.4f} | Val Acc: {val_acc:.2f}%')\n",
    "    print('-' * 50)\n",
    "    \n",
    "    # Save best model\n",
    "    if val_acc > best_val_acc:\n",
    "        print(f'Validation accuracy improved from {best_val_acc:.2f}% to {val_acc:.2f}%')\n",
    "        best_val_acc = val_acc\n",
    "        torch.save(model.state_dict(), 'best_vit_model.pth')\n",
    "        current_patience = 0\n",
    "    else:\n",
    "        current_patience += 1\n",
    "        print(f'No improvement. Patience {current_patience}/{patience}')\n",
    "        if current_patience >= patience:\n",
    "            print(f'Early stopping at epoch {epoch+1}')\n",
    "            break"
   ]
  },
  {
   "cell_type": "code",
   "execution_count": 35,
   "metadata": {},
   "outputs": [
    {
     "name": "stdout",
     "output_type": "stream",
     "text": [
      "Test Accuracy: 61.43%\n"
     ]
    },
    {
     "data": {
      "image/png": "[encoded data removed]",
      "text/plain": [
       "<Figure size 1200x400 with 2 Axes>"
      ]
     },
     "metadata": {},
     "output_type": "display_data"
    }
   ],
   "source": [
    "# Load best model\n",
    "model.load_state_dict(torch.load('best_vit_model.pth'))\n",
    "\n",
    "# Test evaluation\n",
    "model.eval()\n",
    "correct = 0\n",
    "total = 0\n",
    "\n",
    "with torch.no_grad():\n",
    "    for images, labels in test_loader:\n",
    "        images, labels = images.to(device), labels.to(device)\n",
    "        outputs = model(images)\n",
    "        _, predicted = outputs.max(1)\n",
    "        total += labels.size(0)\n",
    "        correct += predicted.eq(labels).sum().item()\n",
    "\n",
    "print(f'Test Accuracy: {100 * correct / total:.2f}%')\n",
    "\n",
    "# Plot training curves\n",
    "plt.figure(figsize=(12, 4))\n",
    "plt.subplot(1, 2, 1)\n",
    "plt.plot(train_losses, label='Train Loss')\n",
    "plt.plot(val_losses, label='Val Loss')\n",
    "plt.legend()\n",
    "plt.title('Loss Curves')\n",
    "\n",
    "plt.subplot(1, 2, 2)\n",
    "plt.plot(val_accuracies, label='Val Accuracy')\n",
    "plt.plot(train_accuracies, label='train Accuracy')\n",
    "plt.legend()\n",
    "plt.title('Validation Accuracy')\n",
    "plt.show()"
   ]
  },
  {
   "cell_type": "code",
   "execution_count": 40,
   "metadata": {},
   "outputs": [],
   "source": [
    "import time\n",
    "from sklearn.metrics import accuracy_score, f1_score, precision_score, recall_score, confusion_matrix\n",
    "import seaborn as sns"
   ]
  },
  {
   "cell_type": "code",
   "execution_count": 41,
   "metadata": {},
   "outputs": [
    {
     "name": "stdout",
     "output_type": "stream",
     "text": [
      "Metric          | Value     \n",
      "----------------------------\n",
      "Accuracy        | 0.6143\n",
      "F1 Score        | 0.6152\n",
      "Precision       | 0.6437\n",
      "Recall          | 0.6143\n",
      "Inference Time  | 0.0002s/img\n",
      "FPS             | 4197.6\n",
      "Model Size      | 13.02 MB\n"
     ]
    },
    {
     "data": {
      "image/png": "[encoded data removed]",
      "text/plain": [
       "<Figure size 1000x800 with 2 Axes>"
      ]
     },
     "metadata": {},
     "output_type": "display_data"
    },
    {
     "data": {
      "image/png": "[encoded data removed]",
      "text/plain": [
       "<Figure size 1000x500 with 1 Axes>"
      ]
     },
     "metadata": {},
     "output_type": "display_data"
    },
    {
     "name": "stdout",
     "output_type": "stream",
     "text": [
      "\n",
      "Top 5 ViT Errors:\n",
      "ElephenTest→HorseTest     4\n",
      "BearTest→CamelTest        2\n",
      "CamelTest→LionTest        2\n",
      "HorseTest→LionTest        2\n",
      "SquirrelTest→ElephenTest  2\n"
     ]
    }
   ],
   "source": [
    "# Load best ViT model\n",
    "model = ViT(\n",
    "    image_size=image_size,\n",
    "    patch_size=patch_size,\n",
    "    num_classes=num_classes,\n",
    "    hidden_dim=hidden_dim,\n",
    "    depth=depth,\n",
    "    num_heads=num_heads,\n",
    "    mlp_dim=mlp_dim,\n",
    "    dropout=dropout\n",
    ").to(device)\n",
    "model.load_state_dict(torch.load('best_vit_model.pth'))\n",
    "model.eval()\n",
    "\n",
    "# Evaluation variables\n",
    "all_preds = []\n",
    "all_labels = []\n",
    "total_time = 0\n",
    "\n",
    "# Main evaluation loop\n",
    "with torch.no_grad():\n",
    "    for images, labels in test_loader:\n",
    "        images, labels = images.to(device), labels.to(device)\n",
    "        \n",
    "        # Measure inference time\n",
    "        start_time = time.time()\n",
    "        outputs = model(images)\n",
    "        torch.cuda.synchronize()\n",
    "        total_time += time.time() - start_time\n",
    "        \n",
    "        _, preds = torch.max(outputs, 1)\n",
    "        all_preds.extend(preds.cpu().numpy())\n",
    "        all_labels.extend(labels.cpu().numpy())\n",
    "\n",
    "# Calculate metrics\n",
    "accuracy = accuracy_score(all_labels, all_preds)\n",
    "f1 = f1_score(all_labels, all_preds, average='weighted')\n",
    "precision = precision_score(all_labels, all_preds, average='weighted')\n",
    "recall = recall_score(all_labels, all_preds, average='weighted')\n",
    "cm = confusion_matrix(all_labels, all_preds)\n",
    "\n",
    "# Performance metrics\n",
    "avg_inference_time = total_time / len(test_loader.dataset)\n",
    "fps = 1 / avg_inference_time\n",
    "param_size = sum(p.numel() * p.element_size() for p in model.parameters()) / (1024**2)\n",
    "\n",
    "# Print results\n",
    "print(f\"{'Metric':<15} | {'Value':<10}\")\n",
    "print(\"----------------------------\")\n",
    "print(f\"{'Accuracy':<15} | {accuracy:.4f}\")\n",
    "print(f\"{'F1 Score':<15} | {f1:.4f}\")\n",
    "print(f\"{'Precision':<15} | {precision:.4f}\")\n",
    "print(f\"{'Recall':<15} | {recall:.4f}\")\n",
    "print(f\"{'Inference Time':<15} | {avg_inference_time:.4f}s/img\")\n",
    "print(f\"{'FPS':<15} | {fps:.1f}\")\n",
    "print(f\"{'Model Size':<15} | {param_size:.2f} MB\")\n",
    "\n",
    "# Confusion matrix\n",
    "plt.figure(figsize=(10, 8))\n",
    "sns.heatmap(cm, annot=True, fmt='d', cmap='Blues',\n",
    "           xticklabels=test_dataset.classes,\n",
    "           yticklabels=test_dataset.classes)\n",
    "plt.title('ViT Confusion Matrix')\n",
    "plt.xlabel('Predicted')\n",
    "plt.ylabel('True')\n",
    "plt.show()\n",
    "\n",
    "# Class-wise accuracy\n",
    "class_acc = cm.diagonal() / cm.sum(axis=1)\n",
    "plt.figure(figsize=(10,5))\n",
    "plt.barh(test_dataset.classes, class_acc)\n",
    "plt.title('ViT Class-wise Accuracy')\n",
    "plt.xlim(0, 1)\n",
    "plt.show()\n",
    "\n",
    "# Top errors\n",
    "top_errors = {}\n",
    "for i in range(len(test_dataset.classes)):\n",
    "    for j in range(len(test_dataset.classes)):\n",
    "        if i != j and cm[i,j] > 0:\n",
    "            key = f\"{test_dataset.classes[i]}→{test_dataset.classes[j]}\"\n",
    "            top_errors[key] = cm[i,j]\n",
    "\n",
    "print(\"\\nTop 5 ViT Errors:\")\n",
    "for error, count in sorted(top_errors.items(), key=lambda x: -x[1])[:5]:\n",
    "    print(f\"{error:<25} {count}\")"
   ]
  },
  {
   "cell_type": "code",
   "execution_count": null,
   "metadata": {},
   "outputs": [],
   "source": []
  }
 ],
 "metadata": {
  "kernelspec": {
   "display_name": "ML",
   "language": "python",
   "name": "python3"
  },
  "language_info": {
   "name": "python",
   "version": "3.11.9"
  }
 },
 "nbformat": 4,
 "nbformat_minor": 2
}
